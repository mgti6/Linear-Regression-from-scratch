{
 "cells": [
  {
   "cell_type": "markdown",
   "id": "63e41546-63c0-43b5-a616-e6ddae4d4de0",
   "metadata": {},
   "source": [
    "## Import Functions"
   ]
  },
  {
   "cell_type": "code",
   "execution_count": 67,
   "id": "9f471980-8f00-4d57-925f-c0f923f82da7",
   "metadata": {},
   "outputs": [],
   "source": [
    "import numpy as np \n",
    "import pandas as pd\n",
    "import matplotlib.pyplot as plt"
   ]
  },
  {
   "cell_type": "markdown",
   "id": "c14d2f50-c1e5-4aa4-b5f3-4f0621b54280",
   "metadata": {},
   "source": [
    "### 🎯 Loss function : Mean Squared Error (MSE)\n",
    "The loss function used in this linear regression model is the **Mean Squared Error (MSE)**. It measures the average squared difference between the true values $ y_i $ and the predicted values $ \\hat{y}_i = m*x_i + b \n",
    "$.\n",
    "\n",
    "The formula is:\n",
    "\n",
    "$$\n",
    "\\text{MSE}(m, b) = \\frac{1}{n} \\sum_{i=1}^{n} \\left( y_i - (m*x_i + b) \\right)^2\n",
    "$$\n"
   ]
  },
  {
   "cell_type": "code",
   "execution_count": 68,
   "id": "5830d11d-9676-4488-9d5c-efa50ee28249",
   "metadata": {},
   "outputs": [],
   "source": [
    "def loss_function(m, b, points):\n",
    "    total_error = 0\n",
    "    for i in range(len(points)):\n",
    "        x=points.iloc[i].Study_time\n",
    "        y=points.iloc[i].Mark\n",
    "        total_error+=(y - (m * x + b )) ** 2\n",
    "    return total_error / float(len(points))\n",
    "        \n",
    "    \n",
    "    "
   ]
  },
  {
   "cell_type": "markdown",
   "id": "9ae39fd0-ff2d-43f8-96e5-49c5fd68140b",
   "metadata": {},
   "source": [
    "### Gradient Descent for Linear Regression\n",
    "\n",
    "The function below performs one iteration of **gradient descent** to update the parameters \\( m \\) (slope) and \\( b \\) (intercept) of a simple linear regression model.\n",
    "\n",
    "The gradients are computed as partial derivatives of the Mean Squared Error loss function with respect to \\( m \\) and \\( b \\):\n",
    "\n",
    "$$\n",
    "\\frac{\\partial}{\\partial m} = -\\frac{2}{n} \\sum_{i=1}^n x_i*\\left(y_i - (m *x_i + b)\\right)\n",
    "\\quad \\text{and} \\quad\n",
    "\\frac{\\partial}{\\partial b} = -\\frac{2}{n} \\sum_{i=1}^n \\left(y_i - (m *x_i + b)\\right)\n",
    "$$\n",
    "\n",
    "The parameters are updated by moving **against** the gradient, scaled by the learning rate \\( L \\):\n",
    "\n",
    "$$\n",
    "m \\leftarrow m - L \\times \\frac{\\partial}{\\partial m}, \\quad b \\leftarrow b - L \\times \\frac{\\partial}{\\partial b}\n",
    "$$\n",
    "\n",
    "\n"
   ]
  },
  {
   "cell_type": "code",
   "execution_count": 69,
   "id": "9ab099a5-860d-4d6c-859c-1cf2193b7108",
   "metadata": {},
   "outputs": [],
   "source": [
    "def gradient_descent(m_now, b_now, points, L):\n",
    "    m_gradient = 0\n",
    "    b_gradient = 0\n",
    "\n",
    "    n = len(points)\n",
    "\n",
    "    for i in range(n):\n",
    "        x = points.iloc[i].Study_time\n",
    "        y = points.iloc[i].Mark\n",
    "\n",
    "\n",
    "        m_gradient += -(2/n) * x * (y - (m_now * x + b_now))\n",
    "        b_gradient += -(2/n) * (y - (m_now * x + b_now))\n",
    "\n",
    "\n",
    "\n",
    "    m = m_now - m_gradient * L \n",
    "    b = b_now - b_gradient * L\n",
    "\n",
    "\n",
    "\n",
    "    return m, b\n",
    "                                    \n",
    "\n",
    "\n",
    "        "
   ]
  },
  {
   "cell_type": "markdown",
   "id": "2c9f1a19-a0a5-48d7-873e-494a606a45dc",
   "metadata": {},
   "source": [
    "## Import Data"
   ]
  },
  {
   "cell_type": "code",
   "execution_count": 70,
   "id": "1d1c4d6d-5613-41d2-9649-3688d7cc14cf",
   "metadata": {},
   "outputs": [],
   "source": [
    "import pandas as pd\n",
    "import numpy as np\n",
    "\n",
    "\n",
    "np.random.seed(0)\n",
    "study_time = 2 * np.random.rand(100)\n",
    "marks = 4 + 3 * study_time + np.random.randn(100)\n",
    "\n",
    "\n",
    "data = pd.DataFrame({\n",
    "    \"Study_time\": study_time,\n",
    "    \"Mark\": marks\n",
    "})\n"
   ]
  },
  {
   "cell_type": "markdown",
   "id": "bca84a64-8977-4f78-ab35-20504bfbd039",
   "metadata": {},
   "source": [
    "## Implementation"
   ]
  },
  {
   "cell_type": "code",
   "execution_count": 71,
   "id": "96779d4c-bfa3-4932-a7a6-802ee2e088d3",
   "metadata": {},
   "outputs": [
    {
     "name": "stdout",
     "output_type": "stream",
     "text": [
      "Epoch 0, Loss: 49.112085551140375\n",
      "Epoch 100, Loss: 1.1212213193530065\n",
      "Epoch 200, Loss: 1.0545788902028976\n",
      "Epoch 300, Loss: 1.0250451417202162\n",
      "Epoch 400, Loss: 1.0095486843654458\n",
      "Epoch 500, Loss: 1.001417023799399\n",
      "Epoch 600, Loss: 0.9971499901079001\n",
      "Epoch 700, Loss: 0.9949108931391144\n",
      "Epoch 800, Loss: 0.9937359422017431\n",
      "Epoch 900, Loss: 0.9931193946718798\n",
      "Our final m and b parameters are :\n",
      " m = 2.99983630495613\n",
      " b = 4.186799174312735\n"
     ]
    }
   ],
   "source": [
    "m = 0\n",
    "b = 0\n",
    "L = 0.01  \n",
    "epochs = 1000\n",
    "\n",
    "\n",
    "for i in range(epochs):\n",
    "    m, b = gradient_descent(m, b, data, L)\n",
    "    if i % 100 == 0:\n",
    "        print(f\"Epoch {i}, Loss: {loss_function(m, b, points)}\")\n",
    "print(f\"Our final m and b parameters are :\\n m = {m}\\n b = {b}\")"
   ]
  },
  {
   "cell_type": "markdown",
   "id": "a3b486fa-cd55-497b-87dc-ea3fc9b5a5b3",
   "metadata": {},
   "source": [
    "## Visualisation of our results"
   ]
  },
  {
   "cell_type": "code",
   "execution_count": 72,
   "id": "a10e2c3d-7756-4d8d-86ff-a1ebd077a46c",
   "metadata": {},
   "outputs": [
    {
     "data": {
      "image/png": "[encoded data removed]",
      "text/plain": [
       "<Figure size 640x480 with 1 Axes>"
      ]
     },
     "metadata": {},
     "output_type": "display_data"
    }
   ],
   "source": [
    "plt.scatter(points.Study_time, points.Mark, color='blue', label='Data')\n",
    "x_vals = np.linspace(0, 2, 100)\n",
    "y_vals = m * x_vals + b\n",
    "plt.plot(x_vals, y_vals, color='red', label='Regression')\n",
    "plt.xlabel(\"Study time\")\n",
    "plt.ylabel(\"Marks\")\n",
    "plt.legend()\n",
    "plt.title(\"Linear Regression\")\n",
    "plt.show()\n"
   ]
  },
  {
   "cell_type": "markdown",
   "id": "41383dab-b980-4ce5-8133-3eda938f8373",
   "metadata": {},
   "source": [
    "## 📌 Comparison: Custom Gradient Descent vs scikit-learn LinearRegression "
   ]
  },
  {
   "cell_type": "code",
   "execution_count": 73,
   "id": "95f7c80c-b3d4-4dd7-9431-e81fd6ce2aaa",
   "metadata": {},
   "outputs": [],
   "source": [
    "from sklearn.linear_model import LinearRegression"
   ]
  },
  {
   "cell_type": "code",
   "execution_count": 74,
   "id": "7afb3035-8e59-44c6-90a7-2bdfd2ee67d8",
   "metadata": {},
   "outputs": [
    {
     "name": "stdout",
     "output_type": "stream",
     "text": [
      "Loss using scikit-learn model: 0.9924386487246479\n",
      "Loss using custom model): 0.992798176482419\n"
     ]
    }
   ],
   "source": [
    "from sklearn.linear_model import LinearRegression\n",
    "\n",
    "\n",
    "X = data[['Study_time']].values\n",
    "y = data['Mark'].values\n",
    "\n",
    "model = LinearRegression()\n",
    "model.fit(X, y)\n",
    "\n",
    "\n",
    "m_sklearn = model.coef_[0]\n",
    "b_sklearn = model.intercept_\n",
    "\n",
    "mse_sklearn = loss_function(m_sklearn, b_sklearn, data)\n",
    "print(f\"Loss using scikit-learn model: {mse_sklearn}\")\n",
    "\n",
    "\n",
    "mse_custom = loss_function(m, b, data)\n",
    "print(f\"Loss using custom model): {mse_custom}\")\n"
   ]
  },
  {
   "cell_type": "markdown",
   "id": "41b65597-0597-47a9-a81f-30fc8340ed1d",
   "metadata": {},
   "source": [
    "## 📌 Comparison Between Custom Gradient Descent and Sklearn’s SGDRegressor"
   ]
  },
  {
   "cell_type": "code",
   "execution_count": 75,
   "id": "5175dde6-e9b9-4c41-8d9f-cb831e3f8ae3",
   "metadata": {},
   "outputs": [],
   "source": [
    "from sklearn.linear_model import SGDRegressor"
   ]
  },
  {
   "cell_type": "code",
   "execution_count": 76,
   "id": "c7f36781-8839-4a74-8fdc-fe238d5854dd",
   "metadata": {},
   "outputs": [
    {
     "name": "stdout",
     "output_type": "stream",
     "text": [
      "Gradient Descent: m = 2.99983630495613 , b = 4.186799174312735 , Loss = 0.992798176482419\n",
      "sklearn SGDRegressor: m = 3.014601545490956 , b = 4.161009222774899 , Loss = 0.9934531467770289\n"
     ]
    }
   ],
   "source": [
    "from sklearn.preprocessing import StandardScaler\n",
    "\n",
    "scaler = StandardScaler()\n",
    "X_scaled = scaler.fit_transform(X)\n",
    "\n",
    "sgd = SGDRegressor(max_iter=1000, eta0=0.01, learning_rate='constant', penalty=None, random_state=42)\n",
    "sgd.fit(X_scaled, y)\n",
    "\n",
    "\n",
    "m_sgd = sgd.coef_[0] / scaler.scale_[0]\n",
    "b_sgd = sgd.intercept_[0] - (scaler.mean_[0] * sgd.coef_[0]) / scaler.scale_[0]\n",
    "\n",
    "sgd_loss = loss_function(m_sgd, b_sgd, data)\n",
    "\n",
    "print(\"Gradient Descent: m =\", m, \", b =\", b, \", Loss =\", custom_loss)\n",
    "print(\"sklearn SGDRegressor: m =\", m_sgd, \", b =\", b_sgd, \", Loss =\", sgd_loss)\n"
   ]
  }
 ],
 "metadata": {
  "kernelspec": {
   "display_name": "Python 3 (ipykernel)",
   "language": "python",
   "name": "python3"
  },
  "language_info": {
   "codemirror_mode": {
    "name": "ipython",
    "version": 3
   },
   "file_extension": ".py",
   "mimetype": "text/x-python",
   "name": "python",
   "nbconvert_exporter": "python",
   "pygments_lexer": "ipython3",
   "version": "3.12.5"
  }
 },
 "nbformat": 4,
 "nbformat_minor": 5
}
